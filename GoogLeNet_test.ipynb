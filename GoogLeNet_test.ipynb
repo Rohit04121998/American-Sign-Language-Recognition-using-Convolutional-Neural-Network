{
 "cells": [
  {
   "cell_type": "code",
   "execution_count": 1,
   "id": "e42a2b2c",
   "metadata": {},
   "outputs": [],
   "source": [
    "import torch\n",
    "import torch.nn.functional as F\n",
    "import torchvision\n",
    "import torch.nn as nn\n",
    "from torchvision import transforms as T\n",
    "from utils import data, evaluate, models, train, plot\n",
    "from torchsummary import summary\n",
    "from torchvision.models import googlenet, GoogLeNet_Weights"
   ]
  },
  {
   "cell_type": "markdown",
   "id": "a157253c",
   "metadata": {},
   "source": [
    "# Parameter Initialization"
   ]
  },
  {
   "cell_type": "code",
   "execution_count": 2,
   "id": "f86e8366",
   "metadata": {},
   "outputs": [],
   "source": [
    "data_path = 'data/asl_alphabet_train'\n",
    "data_path_test_1 = 'data/asl_alphabet_test'\n",
    "data_path_test_2 = 'data/extra_test'\n",
    "samples = 87000\n",
    "split_factor = [0.8, 0.2, 0.0]\n",
    "batch_size = 128\n",
    "lr = 5e-4\n",
    "epochs = 2\n",
    "image_size = (100, 100)\n",
    "l2_reg = 1e-4"
   ]
  },
  {
   "cell_type": "markdown",
   "id": "37bd7731",
   "metadata": {},
   "source": [
    "# Get Train, Val and Test Split"
   ]
  },
  {
   "cell_type": "code",
   "execution_count": 3,
   "id": "9ce70c52",
   "metadata": {},
   "outputs": [],
   "source": [
    "torch.manual_seed(0)\n",
    "train_trans = T.Compose([T.ToTensor(), T.Resize(image_size), T.ColorJitter(brightness=0.4, contrast=0.4, saturation=0.4, hue=0.1), \n",
    "                         T.RandomRotation(degrees=(-5,5)), T.RandomHorizontalFlip(0.2), \n",
    "                         T.Normalize((0.5190, 0.4992, 0.5140), (0.2244, 0.2523, 0.2616))])\n",
    "test_trans = T.Compose([T.ToTensor(), T.Resize(image_size), T.Normalize((0.5190, 0.4992, 0.5140), (0.2244, 0.2523, 0.2616))])\n",
    "\n",
    "dataset = torchvision.datasets.ImageFolder(root=data_path, transform=train_trans)\n",
    "test_dataset_1 = torchvision.datasets.ImageFolder(root=data_path_test_1, transform=test_trans)\n",
    "test_dataset_2 = torchvision.datasets.ImageFolder(root=data_path_test_2, transform=test_trans)\n",
    "\n",
    "train_loader, valid_loader = data.split_dataset(dataset, samples, split_factor, batch_size)\n",
    "test_loader_1 = torch.utils.data.DataLoader(test_dataset_1, batch_size=batch_size, shuffle=False)\n",
    "test_loader_2 = torch.utils.data.DataLoader(test_dataset_2, batch_size=batch_size, shuffle=False)"
   ]
  },
  {
   "cell_type": "markdown",
   "id": "6c092e5d",
   "metadata": {},
   "source": [
    "# Model"
   ]
  },
  {
   "cell_type": "code",
   "execution_count": 4,
   "id": "d38ce420",
   "metadata": {},
   "outputs": [
    {
     "name": "stdout",
     "output_type": "stream",
     "text": [
      "Using cuda device\n",
      "----------------------------------------------------------------\n",
      "        Layer (type)               Output Shape         Param #\n",
      "================================================================\n",
      "            Conv2d-1           [-1, 64, 50, 50]           9,408\n",
      "       BatchNorm2d-2           [-1, 64, 50, 50]             128\n",
      "       BasicConv2d-3           [-1, 64, 50, 50]               0\n",
      "         MaxPool2d-4           [-1, 64, 25, 25]               0\n",
      "            Conv2d-5           [-1, 64, 25, 25]           4,096\n",
      "       BatchNorm2d-6           [-1, 64, 25, 25]             128\n",
      "       BasicConv2d-7           [-1, 64, 25, 25]               0\n",
      "            Conv2d-8          [-1, 192, 25, 25]         110,592\n",
      "       BatchNorm2d-9          [-1, 192, 25, 25]             384\n",
      "      BasicConv2d-10          [-1, 192, 25, 25]               0\n",
      "        MaxPool2d-11          [-1, 192, 12, 12]               0\n",
      "           Conv2d-12           [-1, 64, 12, 12]          12,288\n",
      "      BatchNorm2d-13           [-1, 64, 12, 12]             128\n",
      "      BasicConv2d-14           [-1, 64, 12, 12]               0\n",
      "           Conv2d-15           [-1, 96, 12, 12]          18,432\n",
      "      BatchNorm2d-16           [-1, 96, 12, 12]             192\n",
      "      BasicConv2d-17           [-1, 96, 12, 12]               0\n",
      "           Conv2d-18          [-1, 128, 12, 12]         110,592\n",
      "      BatchNorm2d-19          [-1, 128, 12, 12]             256\n",
      "      BasicConv2d-20          [-1, 128, 12, 12]               0\n",
      "           Conv2d-21           [-1, 16, 12, 12]           3,072\n",
      "      BatchNorm2d-22           [-1, 16, 12, 12]              32\n",
      "      BasicConv2d-23           [-1, 16, 12, 12]               0\n",
      "           Conv2d-24           [-1, 32, 12, 12]           4,608\n",
      "      BatchNorm2d-25           [-1, 32, 12, 12]              64\n",
      "      BasicConv2d-26           [-1, 32, 12, 12]               0\n",
      "        MaxPool2d-27          [-1, 192, 12, 12]               0\n",
      "           Conv2d-28           [-1, 32, 12, 12]           6,144\n",
      "      BatchNorm2d-29           [-1, 32, 12, 12]              64\n",
      "      BasicConv2d-30           [-1, 32, 12, 12]               0\n",
      "        Inception-31          [-1, 256, 12, 12]               0\n",
      "           Conv2d-32          [-1, 128, 12, 12]          32,768\n",
      "      BatchNorm2d-33          [-1, 128, 12, 12]             256\n",
      "      BasicConv2d-34          [-1, 128, 12, 12]               0\n",
      "           Conv2d-35          [-1, 128, 12, 12]          32,768\n",
      "      BatchNorm2d-36          [-1, 128, 12, 12]             256\n",
      "      BasicConv2d-37          [-1, 128, 12, 12]               0\n",
      "           Conv2d-38          [-1, 192, 12, 12]         221,184\n",
      "      BatchNorm2d-39          [-1, 192, 12, 12]             384\n",
      "      BasicConv2d-40          [-1, 192, 12, 12]               0\n",
      "           Conv2d-41           [-1, 32, 12, 12]           8,192\n",
      "      BatchNorm2d-42           [-1, 32, 12, 12]              64\n",
      "      BasicConv2d-43           [-1, 32, 12, 12]               0\n",
      "           Conv2d-44           [-1, 96, 12, 12]          27,648\n",
      "      BatchNorm2d-45           [-1, 96, 12, 12]             192\n",
      "      BasicConv2d-46           [-1, 96, 12, 12]               0\n",
      "        MaxPool2d-47          [-1, 256, 12, 12]               0\n",
      "           Conv2d-48           [-1, 64, 12, 12]          16,384\n",
      "      BatchNorm2d-49           [-1, 64, 12, 12]             128\n",
      "      BasicConv2d-50           [-1, 64, 12, 12]               0\n",
      "        Inception-51          [-1, 480, 12, 12]               0\n",
      "        MaxPool2d-52            [-1, 480, 6, 6]               0\n",
      "           Conv2d-53            [-1, 192, 6, 6]          92,160\n",
      "      BatchNorm2d-54            [-1, 192, 6, 6]             384\n",
      "      BasicConv2d-55            [-1, 192, 6, 6]               0\n",
      "           Conv2d-56             [-1, 96, 6, 6]          46,080\n",
      "      BatchNorm2d-57             [-1, 96, 6, 6]             192\n",
      "      BasicConv2d-58             [-1, 96, 6, 6]               0\n",
      "           Conv2d-59            [-1, 208, 6, 6]         179,712\n",
      "      BatchNorm2d-60            [-1, 208, 6, 6]             416\n",
      "      BasicConv2d-61            [-1, 208, 6, 6]               0\n",
      "           Conv2d-62             [-1, 16, 6, 6]           7,680\n",
      "      BatchNorm2d-63             [-1, 16, 6, 6]              32\n",
      "      BasicConv2d-64             [-1, 16, 6, 6]               0\n",
      "           Conv2d-65             [-1, 48, 6, 6]           6,912\n",
      "      BatchNorm2d-66             [-1, 48, 6, 6]              96\n",
      "      BasicConv2d-67             [-1, 48, 6, 6]               0\n",
      "        MaxPool2d-68            [-1, 480, 6, 6]               0\n",
      "           Conv2d-69             [-1, 64, 6, 6]          30,720\n",
      "      BatchNorm2d-70             [-1, 64, 6, 6]             128\n",
      "      BasicConv2d-71             [-1, 64, 6, 6]               0\n",
      "        Inception-72            [-1, 512, 6, 6]               0\n",
      "           Conv2d-73            [-1, 160, 6, 6]          81,920\n",
      "      BatchNorm2d-74            [-1, 160, 6, 6]             320\n",
      "      BasicConv2d-75            [-1, 160, 6, 6]               0\n",
      "           Conv2d-76            [-1, 112, 6, 6]          57,344\n",
      "      BatchNorm2d-77            [-1, 112, 6, 6]             224\n",
      "      BasicConv2d-78            [-1, 112, 6, 6]               0\n",
      "           Conv2d-79            [-1, 224, 6, 6]         225,792\n",
      "      BatchNorm2d-80            [-1, 224, 6, 6]             448\n",
      "      BasicConv2d-81            [-1, 224, 6, 6]               0\n",
      "           Conv2d-82             [-1, 24, 6, 6]          12,288\n",
      "      BatchNorm2d-83             [-1, 24, 6, 6]              48\n",
      "      BasicConv2d-84             [-1, 24, 6, 6]               0\n",
      "           Conv2d-85             [-1, 64, 6, 6]          13,824\n",
      "      BatchNorm2d-86             [-1, 64, 6, 6]             128\n",
      "      BasicConv2d-87             [-1, 64, 6, 6]               0\n",
      "        MaxPool2d-88            [-1, 512, 6, 6]               0\n",
      "           Conv2d-89             [-1, 64, 6, 6]          32,768\n",
      "      BatchNorm2d-90             [-1, 64, 6, 6]             128\n",
      "      BasicConv2d-91             [-1, 64, 6, 6]               0\n",
      "        Inception-92            [-1, 512, 6, 6]               0\n",
      "           Conv2d-93            [-1, 128, 6, 6]          65,536\n",
      "      BatchNorm2d-94            [-1, 128, 6, 6]             256\n",
      "      BasicConv2d-95            [-1, 128, 6, 6]               0\n",
      "           Conv2d-96            [-1, 128, 6, 6]          65,536\n",
      "      BatchNorm2d-97            [-1, 128, 6, 6]             256\n",
      "      BasicConv2d-98            [-1, 128, 6, 6]               0\n",
      "           Conv2d-99            [-1, 256, 6, 6]         294,912\n",
      "     BatchNorm2d-100            [-1, 256, 6, 6]             512\n",
      "     BasicConv2d-101            [-1, 256, 6, 6]               0\n",
      "          Conv2d-102             [-1, 24, 6, 6]          12,288\n",
      "     BatchNorm2d-103             [-1, 24, 6, 6]              48\n",
      "     BasicConv2d-104             [-1, 24, 6, 6]               0\n",
      "          Conv2d-105             [-1, 64, 6, 6]          13,824\n",
      "     BatchNorm2d-106             [-1, 64, 6, 6]             128\n",
      "     BasicConv2d-107             [-1, 64, 6, 6]               0\n",
      "       MaxPool2d-108            [-1, 512, 6, 6]               0\n",
      "          Conv2d-109             [-1, 64, 6, 6]          32,768\n",
      "     BatchNorm2d-110             [-1, 64, 6, 6]             128\n",
      "     BasicConv2d-111             [-1, 64, 6, 6]               0\n",
      "       Inception-112            [-1, 512, 6, 6]               0\n",
      "          Conv2d-113            [-1, 112, 6, 6]          57,344\n",
      "     BatchNorm2d-114            [-1, 112, 6, 6]             224\n",
      "     BasicConv2d-115            [-1, 112, 6, 6]               0\n",
      "          Conv2d-116            [-1, 144, 6, 6]          73,728\n",
      "     BatchNorm2d-117            [-1, 144, 6, 6]             288\n",
      "     BasicConv2d-118            [-1, 144, 6, 6]               0\n",
      "          Conv2d-119            [-1, 288, 6, 6]         373,248\n",
      "     BatchNorm2d-120            [-1, 288, 6, 6]             576\n",
      "     BasicConv2d-121            [-1, 288, 6, 6]               0\n",
      "          Conv2d-122             [-1, 32, 6, 6]          16,384\n",
      "     BatchNorm2d-123             [-1, 32, 6, 6]              64\n",
      "     BasicConv2d-124             [-1, 32, 6, 6]               0\n",
      "          Conv2d-125             [-1, 64, 6, 6]          18,432\n",
      "     BatchNorm2d-126             [-1, 64, 6, 6]             128\n",
      "     BasicConv2d-127             [-1, 64, 6, 6]               0\n",
      "       MaxPool2d-128            [-1, 512, 6, 6]               0\n",
      "          Conv2d-129             [-1, 64, 6, 6]          32,768\n",
      "     BatchNorm2d-130             [-1, 64, 6, 6]             128\n",
      "     BasicConv2d-131             [-1, 64, 6, 6]               0\n",
      "       Inception-132            [-1, 528, 6, 6]               0\n",
      "          Conv2d-133            [-1, 256, 6, 6]         135,168\n",
      "     BatchNorm2d-134            [-1, 256, 6, 6]             512\n",
      "     BasicConv2d-135            [-1, 256, 6, 6]               0\n",
      "          Conv2d-136            [-1, 160, 6, 6]          84,480\n",
      "     BatchNorm2d-137            [-1, 160, 6, 6]             320\n",
      "     BasicConv2d-138            [-1, 160, 6, 6]               0\n",
      "          Conv2d-139            [-1, 320, 6, 6]         460,800\n",
      "     BatchNorm2d-140            [-1, 320, 6, 6]             640\n",
      "     BasicConv2d-141            [-1, 320, 6, 6]               0\n",
      "          Conv2d-142             [-1, 32, 6, 6]          16,896\n",
      "     BatchNorm2d-143             [-1, 32, 6, 6]              64\n",
      "     BasicConv2d-144             [-1, 32, 6, 6]               0\n",
      "          Conv2d-145            [-1, 128, 6, 6]          36,864\n",
      "     BatchNorm2d-146            [-1, 128, 6, 6]             256\n",
      "     BasicConv2d-147            [-1, 128, 6, 6]               0\n",
      "       MaxPool2d-148            [-1, 528, 6, 6]               0\n",
      "          Conv2d-149            [-1, 128, 6, 6]          67,584\n",
      "     BatchNorm2d-150            [-1, 128, 6, 6]             256\n",
      "     BasicConv2d-151            [-1, 128, 6, 6]               0\n",
      "       Inception-152            [-1, 832, 6, 6]               0\n",
      "       MaxPool2d-153            [-1, 832, 3, 3]               0\n",
      "          Conv2d-154            [-1, 256, 3, 3]         212,992\n",
      "     BatchNorm2d-155            [-1, 256, 3, 3]             512\n",
      "     BasicConv2d-156            [-1, 256, 3, 3]               0\n",
      "          Conv2d-157            [-1, 160, 3, 3]         133,120\n",
      "     BatchNorm2d-158            [-1, 160, 3, 3]             320\n",
      "     BasicConv2d-159            [-1, 160, 3, 3]               0\n",
      "          Conv2d-160            [-1, 320, 3, 3]         460,800\n",
      "     BatchNorm2d-161            [-1, 320, 3, 3]             640\n",
      "     BasicConv2d-162            [-1, 320, 3, 3]               0\n",
      "          Conv2d-163             [-1, 32, 3, 3]          26,624\n",
      "     BatchNorm2d-164             [-1, 32, 3, 3]              64\n",
      "     BasicConv2d-165             [-1, 32, 3, 3]               0\n",
      "          Conv2d-166            [-1, 128, 3, 3]          36,864\n",
      "     BatchNorm2d-167            [-1, 128, 3, 3]             256\n",
      "     BasicConv2d-168            [-1, 128, 3, 3]               0\n",
      "       MaxPool2d-169            [-1, 832, 3, 3]               0\n",
      "          Conv2d-170            [-1, 128, 3, 3]         106,496\n",
      "     BatchNorm2d-171            [-1, 128, 3, 3]             256\n",
      "     BasicConv2d-172            [-1, 128, 3, 3]               0\n",
      "       Inception-173            [-1, 832, 3, 3]               0\n",
      "          Conv2d-174            [-1, 384, 3, 3]         319,488\n",
      "     BatchNorm2d-175            [-1, 384, 3, 3]             768\n",
      "     BasicConv2d-176            [-1, 384, 3, 3]               0\n",
      "          Conv2d-177            [-1, 192, 3, 3]         159,744\n",
      "     BatchNorm2d-178            [-1, 192, 3, 3]             384\n",
      "     BasicConv2d-179            [-1, 192, 3, 3]               0\n",
      "          Conv2d-180            [-1, 384, 3, 3]         663,552\n",
      "     BatchNorm2d-181            [-1, 384, 3, 3]             768\n",
      "     BasicConv2d-182            [-1, 384, 3, 3]               0\n",
      "          Conv2d-183             [-1, 48, 3, 3]          39,936\n",
      "     BatchNorm2d-184             [-1, 48, 3, 3]              96\n",
      "     BasicConv2d-185             [-1, 48, 3, 3]               0\n",
      "          Conv2d-186            [-1, 128, 3, 3]          55,296\n",
      "     BatchNorm2d-187            [-1, 128, 3, 3]             256\n",
      "     BasicConv2d-188            [-1, 128, 3, 3]               0\n",
      "       MaxPool2d-189            [-1, 832, 3, 3]               0\n",
      "          Conv2d-190            [-1, 128, 3, 3]         106,496\n",
      "     BatchNorm2d-191            [-1, 128, 3, 3]             256\n",
      "     BasicConv2d-192            [-1, 128, 3, 3]               0\n",
      "       Inception-193           [-1, 1024, 3, 3]               0\n",
      "AdaptiveAvgPool2d-194           [-1, 1024, 1, 1]               0\n",
      "         Dropout-195                 [-1, 1024]               0\n",
      "          Linear-196                 [-1, 1000]       1,025,000\n",
      "================================================================\n",
      "Total params: 6,624,904\n",
      "Trainable params: 6,624,904\n",
      "Non-trainable params: 0\n",
      "----------------------------------------------------------------\n",
      "Input size (MB): 0.11\n",
      "Forward/backward pass size (MB): 17.90\n",
      "Params size (MB): 25.27\n",
      "Estimated Total Size (MB): 43.29\n",
      "----------------------------------------------------------------\n"
     ]
    }
   ],
   "source": [
    "device = torch.device('cuda' if torch.cuda.is_available() else 'cpu')\n",
    "print(f'Using {device} device')\n",
    "\n",
    "model = torchvision.models.googlenet(weights=GoogLeNet_Weights.IMAGENET1K_V1)\n",
    "model = model.to(device)\n",
    "summary(model, input_size=(3, image_size[0], image_size[1]))"
   ]
  },
  {
   "cell_type": "markdown",
   "id": "94276029",
   "metadata": {},
   "source": [
    "## 1) Training Phase"
   ]
  },
  {
   "cell_type": "code",
   "execution_count": 5,
   "id": "45b4c1ed",
   "metadata": {},
   "outputs": [
    {
     "name": "stdout",
     "output_type": "stream",
     "text": [
      "Epoch 1 -> Loss = 0.0153 | Train Accuracy = 99.52% | valation Accuracy = 99.45%\n",
      "Epoch 2 -> Loss = 0.0359 | Train Accuracy = 98.92% | valation Accuracy = 99.08%\n",
      "----------------------------------------------------------------------------------------------------\n",
      "Time taken to train: 2172.58s\n",
      "Average time of each epoch: 1086.29s\n"
     ]
    }
   ],
   "source": [
    "train_loss_list, train_accuracy_list, val_loss_list, val_accuracy_list = train.train_model(model, train_loader, valid_loader, \n",
    "                                                                                           lr, epochs, device, l2_reg)"
   ]
  },
  {
   "cell_type": "markdown",
   "id": "13374381",
   "metadata": {},
   "source": [
    "## 2) Testing Phase"
   ]
  },
  {
   "cell_type": "markdown",
   "id": "9bcd8d8b",
   "metadata": {},
   "source": [
    "### i) Test Set 1 Accuracy"
   ]
  },
  {
   "cell_type": "code",
   "execution_count": 6,
   "id": "2a8762c1",
   "metadata": {},
   "outputs": [
    {
     "name": "stdout",
     "output_type": "stream",
     "text": [
      "Test Accuracy = 100.0000%\n",
      "F1 Score = 1.0000\n",
      "Recall = 1.0000\n",
      "Precision = 1.0000\n"
     ]
    }
   ],
   "source": [
    "test_accuracy, y_true, y_pred = evaluate.evaluate_model(model, test_loader_1, device)"
   ]
  },
  {
   "cell_type": "markdown",
   "id": "32abf19e",
   "metadata": {},
   "source": [
    "### i) Test Set 2 Accuracy"
   ]
  },
  {
   "cell_type": "code",
   "execution_count": 7,
   "id": "e0efe2bc",
   "metadata": {},
   "outputs": [
    {
     "name": "stdout",
     "output_type": "stream",
     "text": [
      "Test Accuracy = 43.5632%\n",
      "F1 Score = 0.4158\n",
      "Recall = 0.4356\n",
      "Precision = 0.4839\n"
     ]
    },
    {
     "name": "stderr",
     "output_type": "stream",
     "text": [
      "C:\\Users\\rohit\\anaconda3\\envs\\ee541\\lib\\site-packages\\sklearn\\metrics\\_classification.py:1344: UndefinedMetricWarning: Precision is ill-defined and being set to 0.0 in labels with no predicted samples. Use `zero_division` parameter to control this behavior.\n",
      "  _warn_prf(average, modifier, msg_start, len(result))\n"
     ]
    }
   ],
   "source": [
    "test_accuracy, y_true, y_pred = evaluate.evaluate_model(model, test_loader_2, device)"
   ]
  }
 ],
 "metadata": {
  "kernelspec": {
   "display_name": "Python 3 (ipykernel)",
   "language": "python",
   "name": "python3"
  },
  "language_info": {
   "codemirror_mode": {
    "name": "ipython",
    "version": 3
   },
   "file_extension": ".py",
   "mimetype": "text/x-python",
   "name": "python",
   "nbconvert_exporter": "python",
   "pygments_lexer": "ipython3",
   "version": "3.8.16"
  }
 },
 "nbformat": 4,
 "nbformat_minor": 5
}
